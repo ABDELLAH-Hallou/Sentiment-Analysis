{
  "cells": [
    {
      "cell_type": "markdown",
      "metadata": {
        "id": "view-in-github",
        "colab_type": "text"
      },
      "source": [
        "<a href=\"https://colab.research.google.com/github/ABDELLAH-Hallou/Sentiment-Analysis/blob/master/Sentiment_Analysis.ipynb\" target=\"_parent\"><img src=\"https://colab.research.google.com/assets/colab-badge.svg\" alt=\"Open In Colab\"/></a>"
      ]
    },
    {
      "cell_type": "code",
      "execution_count": 42,
      "metadata": {
        "id": "d_bmz2vcHFh9"
      },
      "outputs": [],
      "source": [
        "import numpy as np\n",
        "from string import punctuation\n",
        "import nltk\n",
        "from nltk.corpus import stopwords\n",
        "from nltk.stem import WordNetLemmatizer\n",
        "\n",
        "from sklearn.feature_extraction.text import CountVectorizer\n",
        "\n",
        "from sklearn.model_selection import train_test_split\n",
        "from sklearn.model_selection import GridSearchCV\n",
        "from sklearn.svm import SVC\n",
        "from sklearn.linear_model import LogisticRegression\n",
        "from sklearn.tree import DecisionTreeClassifier\n",
        "from sklearn.neural_network import MLPClassifier\n",
        "from sklearn.ensemble import RandomForestClassifier, AdaBoostClassifier\n",
        "from sklearn.neighbors import KNeighborsClassifier\n",
        "from sklearn.discriminant_analysis import LinearDiscriminantAnalysis, QuadraticDiscriminantAnalysis\n",
        "from sklearn.naive_bayes import GaussianNB, MultinomialNB\n",
        "from sklearn.metrics import accuracy_score\n",
        "from sklearn.metrics import classification_report"
      ]
    },
    {
      "cell_type": "code",
      "execution_count": 8,
      "metadata": {
        "colab": {
          "base_uri": "https://localhost:8080/"
        },
        "id": "mAcq46IhNpHG",
        "outputId": "f586bff3-b83e-4787-d9fb-f5d1ca966ff9"
      },
      "outputs": [
        {
          "output_type": "stream",
          "name": "stderr",
          "text": [
            "[nltk_data] Downloading package stopwords to /root/nltk_data...\n",
            "[nltk_data]   Package stopwords is already up-to-date!\n",
            "[nltk_data] Downloading package wordnet to /root/nltk_data...\n",
            "[nltk_data]   Package wordnet is already up-to-date!\n"
          ]
        },
        {
          "output_type": "execute_result",
          "data": {
            "text/plain": [
              "True"
            ]
          },
          "metadata": {},
          "execution_count": 8
        }
      ],
      "source": [
        "nltk.download('stopwords') # Download the stopwords corpus\n",
        "nltk.download('wordnet') # Download the WordNet corpus"
      ]
    },
    {
      "cell_type": "code",
      "execution_count": 9,
      "metadata": {
        "id": "412d-3fONf0D"
      },
      "outputs": [],
      "source": [
        "def stop_words_removal(corpus):\n",
        "  \"\"\"\n",
        "  Remove stop words from the given corpus.\n",
        "\n",
        "  Args:\n",
        "  - corpus (list): List of strings representing text documents.\n",
        "\n",
        "  Returns:\n",
        "  - list: List of strings with stop words removed from each document.\n",
        "  \"\"\"\n",
        "  stop_words = stopwords.words('english') # Initializing a list of stop words from the NLTK library\n",
        "  return [' '.join([word for word in review.split() if word not in stop_words]) for review in corpus]\n",
        "\n",
        "def punctuation_removal(corpus):\n",
        "  \"\"\"\n",
        "  Remove punctuation from the given corpus.\n",
        "\n",
        "  Args:\n",
        "  - corpus (str): Text corpus.\n",
        "\n",
        "  Returns:\n",
        "  - str: Corpus with punctuation removed.\n",
        "  \"\"\"\n",
        "  reviews = corpus.lower() # Converting the corpus to lowercase for uniformity\n",
        "  return ''.join([char for char in reviews if char not in punctuation])\n",
        "\n",
        "def lemmatization(corpus):\n",
        "  \"\"\"\n",
        "  Perform lemmatization on the given corpus.\n",
        "\n",
        "  Args:\n",
        "  - corpus (list): List of strings representing text documents.\n",
        "\n",
        "  Returns:\n",
        "  - list: List of strings with lemmatized words for each document.\n",
        "  \"\"\"\n",
        "  lemmatizer = WordNetLemmatizer() # Initializing the WordNet lemmatizer\n",
        "  return [' '.join([lemmatizer.lemmatize(word) for word in review.split()]) for review in corpus]\n",
        "\n",
        "def load_data(obervations, labels):\n",
        "  \"\"\"\n",
        "  Load text data from the given file paths.\n",
        "\n",
        "  Args:\n",
        "  - observations (str): File path to the text data file.\n",
        "  - labels (str): File path to the label data file.\n",
        "\n",
        "  Returns:\n",
        "  - tuple: Two elements containing the loaded text data and labels.\n",
        "  \"\"\"\n",
        "  reviews_path = obervations # Path to the file containing the reviews\n",
        "  labels_path = labels # Path to the file containing the labels\n",
        "  with open(reviews_path, 'r') as f :\n",
        "      reviews = f.read() # Reading the contents of the reviews file\n",
        "  with open(labels_path, 'r') as f :\n",
        "      labels = f.read() # Reading the contents of the labels file\n",
        "  return reviews, labels\n",
        "\n",
        "def pre_processing(corpus,target):\n",
        "  \"\"\"\n",
        "  Perform preprocessing on the given corpus and target labels.\n",
        "\n",
        "  Args:\n",
        "  - corpus (str): Text corpus.\n",
        "  - target (str): Target labels.\n",
        "\n",
        "  Returns:\n",
        "  - tuple: Four elements containing preprocessed reviews, labels, encoded reviews, and encoded labels.\n",
        "  \"\"\"\n",
        "  reviews = punctuation_removal(corpus) # Removing punctuation from the corpus\n",
        "  reviews = reviews.split('\\n') # Splitting the reviews into a list based on newlines\n",
        "  labels = target.split('\\n') # Splitting the target labels into a list based on newlines\n",
        "  encoded_labels = [1 if label == 'positive' else 0 for label in labels] # Encoding the labels as 1 for 'positive' and 0 for 'negative'\n",
        "  reviews = lemmatization(stop_words_removal(reviews)) # Applying stop words removal and lemmatization to the reviews\n",
        "  vectorizer = CountVectorizer(binary=True) # Initializing a binary CountVectorizer\n",
        "  encoded_reviews = vectorizer.fit_transform(reviews) # Transforming the pre-processed reviews into encoded features\n",
        "  return reviews,labels,encoded_reviews,encoded_labels"
      ]
    },
    {
      "cell_type": "code",
      "execution_count": 10,
      "metadata": {
        "id": "Lq1VJ74DXJ44"
      },
      "outputs": [],
      "source": [
        "# Load data from file\n",
        "reviews, labels = load_data('/content/reviews.txt', '/content/labels.txt')\n",
        "# Perform pre-processing on the loaded data\n",
        "reviews,labels,encoded_reviews,encoded_labels = pre_processing(reviews,labels)"
      ]
    },
    {
      "cell_type": "code",
      "execution_count": 11,
      "metadata": {
        "id": "6F6kl3J_ghVg"
      },
      "outputs": [],
      "source": [
        "param_grid = {\n",
        "    'C': [0.25, 0.5, 1],\n",
        "    'gamma': [0.001, 0.1, 1],\n",
        "    'kernel': ['linear', 'poly', 'rbf']\n",
        "}"
      ]
    },
    {
      "cell_type": "code",
      "source": [
        "# Split the reviews and labels into training and testing sets\n",
        "# with a test size of 30% and a random state of 42\n",
        "X_train, X_test, y_train, y_test = train_test_split(encoded_reviews, encoded_labels, test_size = 0.3, random_state=80)"
      ],
      "metadata": {
        "id": "YjhlkPK4P2Mz"
      },
      "execution_count": 27,
      "outputs": []
    },
    {
      "cell_type": "code",
      "source": [
        "# Perform grid search to find the best hyperparameters\n",
        "model = GridSearchCV(SVC(), param_grid, refit = True, verbose = 3,  n_jobs=2)\n",
        "model.fit(X_train, y_train)\n",
        "# print best parameter after tuning\n",
        "print(model.best_params_)\n",
        "# print how our model looks after hyper-parameter tuning\n",
        "print(model.best_estimator_)\n",
        "# Evaluate on the validation set\n",
        "y_pred = model.predict(X_test)\n",
        "score = accuracy_score(y_test, y_pred)\n",
        "print(f\"accuracy : {score}\")\n",
        "print(classification_report(y_test, y_pred))"
      ],
      "metadata": {
        "colab": {
          "base_uri": "https://localhost:8080/"
        },
        "id": "A0Ev9Wl3Sp8h",
        "outputId": "bb0e3696-d0f2-4218-f3b1-eb194143232d"
      },
      "execution_count": 13,
      "outputs": [
        {
          "output_type": "stream",
          "name": "stdout",
          "text": [
            "Fitting 5 folds for each of 27 candidates, totalling 135 fits\n",
            "{'C': 0.25, 'gamma': 0.001, 'kernel': 'linear'}\n",
            "SVC(C=0.25, gamma=0.001, kernel='linear')\n",
            "accuracy : 0.8653333333333333\n",
            "              precision    recall  f1-score   support\n",
            "\n",
            "           0       0.87      0.87      0.87       757\n",
            "           1       0.87      0.86      0.86       743\n",
            "\n",
            "    accuracy                           0.87      1500\n",
            "   macro avg       0.87      0.87      0.87      1500\n",
            "weighted avg       0.87      0.87      0.87      1500\n",
            "\n"
          ]
        }
      ]
    },
    {
      "cell_type": "code",
      "source": [
        "# Create a list of models\n",
        "models = [\n",
        "    ('NB', GaussianNB()),\n",
        "    ('Logistic Regression', LogisticRegression(C=0.25)),\n",
        "    ('Decision Tree', DecisionTreeClassifier()),\n",
        "    ('KNN', KNeighborsClassifier(\n",
        "        n_neighbors=3,\n",
        "        metric = \"euclidean\"\n",
        "    )),\n",
        "    ('QDA', QuadraticDiscriminantAnalysis()),\n",
        "    ('LDA', LinearDiscriminantAnalysis()),\n",
        "    (\"Random Forest\", RandomForestClassifier()),\n",
        "    (\"Neural Net\", MLPClassifier()),\n",
        "    (\"AdaBoost\", AdaBoostClassifier())\n",
        "]"
      ],
      "metadata": {
        "id": "QWIpTGxQUuU2"
      },
      "execution_count": 43,
      "outputs": []
    },
    {
      "cell_type": "code",
      "source": [
        "for name, model in models:\n",
        "    clf = model\n",
        "    if name in [\"LDA\",\"NB\",\"QDA\"]:\n",
        "      clf.fit(X_train.toarray(), y_train)\n",
        "      y_pred = clf.predict(X_test.toarray())\n",
        "      accuracy = clf.score(X_test.toarray(), y_test)\n",
        "    else:\n",
        "      clf.fit(X_train, y_train)\n",
        "      y_pred = clf.predict(X_test)\n",
        "      accuracy = clf.score(X_test, y_test)\n",
        "    print(\"TEST Accuracy\", name, accuracy)\n",
        "    cm = classification_report(y_test, y_pred)\n",
        "    print(\"Report for\", name, \":\\n\", cm)"
      ],
      "metadata": {
        "colab": {
          "base_uri": "https://localhost:8080/"
        },
        "id": "bI-hFODNadj8",
        "outputId": "669385b3-8e9b-41aa-ee15-508f5adab2ba"
      },
      "execution_count": 45,
      "outputs": [
        {
          "output_type": "stream",
          "name": "stdout",
          "text": [
            "TEST Accuracy NB 0.7573333333333333\n",
            "Report for NB :\n",
            "               precision    recall  f1-score   support\n",
            "\n",
            "           0       0.73      0.83      0.78       757\n",
            "           1       0.80      0.68      0.74       743\n",
            "\n",
            "    accuracy                           0.76      1500\n",
            "   macro avg       0.76      0.76      0.76      1500\n",
            "weighted avg       0.76      0.76      0.76      1500\n",
            "\n",
            "TEST Accuracy Logistic Regression 0.88\n",
            "Report for Logistic Regression :\n",
            "               precision    recall  f1-score   support\n",
            "\n",
            "           0       0.88      0.88      0.88       757\n",
            "           1       0.88      0.88      0.88       743\n",
            "\n",
            "    accuracy                           0.88      1500\n",
            "   macro avg       0.88      0.88      0.88      1500\n",
            "weighted avg       0.88      0.88      0.88      1500\n",
            "\n",
            "TEST Accuracy Decision Tree 0.714\n",
            "Report for Decision Tree :\n",
            "               precision    recall  f1-score   support\n",
            "\n",
            "           0       0.72      0.72      0.72       757\n",
            "           1       0.71      0.71      0.71       743\n",
            "\n",
            "    accuracy                           0.71      1500\n",
            "   macro avg       0.71      0.71      0.71      1500\n",
            "weighted avg       0.71      0.71      0.71      1500\n",
            "\n",
            "TEST Accuracy KNN 0.56\n",
            "Report for KNN :\n",
            "               precision    recall  f1-score   support\n",
            "\n",
            "           0       0.54      0.91      0.68       757\n",
            "           1       0.69      0.21      0.32       743\n",
            "\n",
            "    accuracy                           0.56      1500\n",
            "   macro avg       0.61      0.56      0.50      1500\n",
            "weighted avg       0.61      0.56      0.50      1500\n",
            "\n"
          ]
        },
        {
          "output_type": "stream",
          "name": "stderr",
          "text": [
            "/usr/local/lib/python3.10/dist-packages/sklearn/discriminant_analysis.py:926: UserWarning: Variables are collinear\n",
            "  warnings.warn(\"Variables are collinear\")\n"
          ]
        },
        {
          "output_type": "stream",
          "name": "stdout",
          "text": [
            "TEST Accuracy QDA 0.49666666666666665\n",
            "Report for QDA :\n",
            "               precision    recall  f1-score   support\n",
            "\n",
            "           0       1.00      0.00      0.01       757\n",
            "           1       0.50      1.00      0.66       743\n",
            "\n",
            "    accuracy                           0.50      1500\n",
            "   macro avg       0.75      0.50      0.33      1500\n",
            "weighted avg       0.75      0.50      0.33      1500\n",
            "\n",
            "TEST Accuracy LDA 0.6426666666666667\n",
            "Report for LDA :\n",
            "               precision    recall  f1-score   support\n",
            "\n",
            "           0       0.66      0.59      0.63       757\n",
            "           1       0.63      0.69      0.66       743\n",
            "\n",
            "    accuracy                           0.64      1500\n",
            "   macro avg       0.64      0.64      0.64      1500\n",
            "weighted avg       0.64      0.64      0.64      1500\n",
            "\n",
            "TEST Accuracy Random Forest 0.8453333333333334\n",
            "Report for Random Forest :\n",
            "               precision    recall  f1-score   support\n",
            "\n",
            "           0       0.85      0.84      0.85       757\n",
            "           1       0.84      0.85      0.85       743\n",
            "\n",
            "    accuracy                           0.85      1500\n",
            "   macro avg       0.85      0.85      0.85      1500\n",
            "weighted avg       0.85      0.85      0.85      1500\n",
            "\n",
            "TEST Accuracy Neural Net 0.9046666666666666\n",
            "Report for Neural Net :\n",
            "               precision    recall  f1-score   support\n",
            "\n",
            "           0       0.91      0.90      0.90       757\n",
            "           1       0.90      0.91      0.90       743\n",
            "\n",
            "    accuracy                           0.90      1500\n",
            "   macro avg       0.90      0.90      0.90      1500\n",
            "weighted avg       0.90      0.90      0.90      1500\n",
            "\n",
            "TEST Accuracy AdaBoost 0.78\n",
            "Report for AdaBoost :\n",
            "               precision    recall  f1-score   support\n",
            "\n",
            "           0       0.80      0.76      0.78       757\n",
            "           1       0.76      0.80      0.78       743\n",
            "\n",
            "    accuracy                           0.78      1500\n",
            "   macro avg       0.78      0.78      0.78      1500\n",
            "weighted avg       0.78      0.78      0.78      1500\n",
            "\n"
          ]
        }
      ]
    },
    {
      "cell_type": "markdown",
      "source": [
        "Model|Accuracy|Precision|Recall|F1-Score\n",
        "--- | --- | --- | --- | ---\n",
        "Neural Net|0.905|0.91|0.90|0.90\n",
        "Logistic Regression|0.880|0.88|0.88|0.88\n",
        "Random Forest|0.845|0.85|0.84|0.85\n",
        "SVM|0.865|0.87|0.87|0.87\n",
        "AdaBoost|0.780|0.80|0.76|0.78\n",
        "Decision Tree|0.714|0.72|0.72|0.72\n",
        "Linear Discriminant|0.643|0.66|0.59|0.63\n",
        "Naive Bayes|0.757|0.73|0.83|0.78\n",
        "KNN|0.560|0.54|0.91|0.68\n",
        "Quadratic Discriminant|0.496|1.00|0.00|0.01\n"
      ],
      "metadata": {
        "id": "5ffPfhOEuNRX"
      }
    }
  ],
  "metadata": {
    "accelerator": "TPU",
    "colab": {
      "provenance": [],
      "authorship_tag": "ABX9TyNfaRC4m7o1bH02M0I2tPW0",
      "include_colab_link": true
    },
    "kernelspec": {
      "display_name": "Python 3",
      "name": "python3"
    },
    "language_info": {
      "name": "python"
    }
  },
  "nbformat": 4,
  "nbformat_minor": 0
}