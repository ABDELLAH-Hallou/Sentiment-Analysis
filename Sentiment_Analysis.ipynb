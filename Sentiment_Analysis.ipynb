{
  "nbformat": 4,
  "nbformat_minor": 0,
  "metadata": {
    "colab": {
      "provenance": [],
      "authorship_tag": "ABX9TyNQKbj9Dsed1fvIlZqQ71Pw",
      "include_colab_link": true
    },
    "kernelspec": {
      "name": "python3",
      "display_name": "Python 3"
    },
    "language_info": {
      "name": "python"
    }
  },
  "cells": [
    {
      "cell_type": "markdown",
      "metadata": {
        "id": "view-in-github",
        "colab_type": "text"
      },
      "source": [
        "<a href=\"https://colab.research.google.com/github/ABDELLAH-Hallou/Sentiment-Analysis/blob/master/Sentiment_Analysis.ipynb\" target=\"_parent\"><img src=\"https://colab.research.google.com/assets/colab-badge.svg\" alt=\"Open In Colab\"/></a>"
      ]
    },
    {
      "cell_type": "code",
      "execution_count": 105,
      "metadata": {
        "id": "d_bmz2vcHFh9"
      },
      "outputs": [],
      "source": [
        "from string import punctuation\n",
        "import nltk\n",
        "from nltk.corpus import stopwords\n",
        "from nltk.stem import WordNetLemmatizer\n",
        "\n",
        "from sklearn.feature_extraction.text import CountVectorizer\n",
        "\n",
        "from sklearn.model_selection import train_test_split\n",
        "\n",
        "from sklearn.svm import LinearSVC\n",
        "from sklearn.metrics import accuracy_score"
      ]
    },
    {
      "cell_type": "code",
      "source": [
        "nltk.download('stopwords') # Download the stopwords corpus\n",
        "nltk.download('wordnet') # Download the WordNet corpus"
      ],
      "metadata": {
        "colab": {
          "base_uri": "https://localhost:8080/"
        },
        "id": "mAcq46IhNpHG",
        "outputId": "72bd01af-3fc0-40bf-acb2-75e7098d6e3a"
      },
      "execution_count": 106,
      "outputs": [
        {
          "output_type": "stream",
          "name": "stderr",
          "text": [
            "[nltk_data] Downloading package stopwords to /root/nltk_data...\n",
            "[nltk_data]   Package stopwords is already up-to-date!\n",
            "[nltk_data] Downloading package wordnet to /root/nltk_data...\n",
            "[nltk_data]   Package wordnet is already up-to-date!\n"
          ]
        },
        {
          "output_type": "execute_result",
          "data": {
            "text/plain": [
              "True"
            ]
          },
          "metadata": {},
          "execution_count": 106
        }
      ]
    },
    {
      "cell_type": "code",
      "source": [
        "def stop_words_removal(corpus):\n",
        "  \"\"\"\n",
        "  Remove stop words from the given corpus.\n",
        "\n",
        "  Args:\n",
        "  - corpus (list): List of strings representing text documents.\n",
        "\n",
        "  Returns:\n",
        "  - list: List of strings with stop words removed from each document.\n",
        "  \"\"\"\n",
        "  stop_words = stopwords.words('english') # Initializing a list of stop words from the NLTK library\n",
        "  return [' '.join([word for word in review.split() if word not in stop_words]) for review in corpus]\n",
        "\n",
        "def punctuation_removal(corpus):\n",
        "  \"\"\"\n",
        "  Remove punctuation from the given corpus.\n",
        "\n",
        "  Args:\n",
        "  - corpus (str): Text corpus.\n",
        "\n",
        "  Returns:\n",
        "  - str: Corpus with punctuation removed.\n",
        "  \"\"\"\n",
        "  reviews = corpus.lower() # Converting the corpus to lowercase for uniformity\n",
        "  return ''.join([char for char in reviews if char not in punctuation])\n",
        "\n",
        "def lemmatization(corpus):\n",
        "  \"\"\"\n",
        "  Perform lemmatization on the given corpus.\n",
        "\n",
        "  Args:\n",
        "  - corpus (list): List of strings representing text documents.\n",
        "\n",
        "  Returns:\n",
        "  - list: List of strings with lemmatized words for each document.\n",
        "  \"\"\"\n",
        "  lemmatizer = WordNetLemmatizer() # Initializing the WordNet lemmatizer\n",
        "  return [' '.join([lemmatizer.lemmatize(word) for word in review.split()]) for review in corpus]\n",
        "\n",
        "def load_data(obervations, labels):\n",
        "  \"\"\"\n",
        "  Load text data from the given file paths.\n",
        "\n",
        "  Args:\n",
        "  - observations (str): File path to the text data file.\n",
        "  - labels (str): File path to the label data file.\n",
        "\n",
        "  Returns:\n",
        "  - tuple: Two elements containing the loaded text data and labels.\n",
        "  \"\"\"\n",
        "  reviews_path = obervations # Path to the file containing the reviews\n",
        "  labels_path = labels # Path to the file containing the labels\n",
        "  with open(reviews_path, 'r') as f :\n",
        "      reviews = f.read() # Reading the contents of the reviews file\n",
        "  with open(labels_path, 'r') as f :\n",
        "      labels = f.read() # Reading the contents of the labels file\n",
        "  return reviews, labels\n",
        "\n",
        "def pre_processing(corpus,target):\n",
        "  \"\"\"\n",
        "  Perform preprocessing on the given corpus and target labels.\n",
        "\n",
        "  Args:\n",
        "  - corpus (str): Text corpus.\n",
        "  - target (str): Target labels.\n",
        "\n",
        "  Returns:\n",
        "  - tuple: Four elements containing preprocessed reviews, labels, encoded reviews, and encoded labels.\n",
        "  \"\"\"\n",
        "  reviews = punctuation_removal(corpus) # Removing punctuation from the corpus\n",
        "  reviews = reviews.split('\\n') # Splitting the reviews into a list based on newlines\n",
        "  labels = target.split('\\n') # Splitting the target labels into a list based on newlines\n",
        "  encoded_labels = [1 if label == 'positive' else 0 for label in labels] # Encoding the labels as 1 for 'positive' and 0 for 'negative'\n",
        "  reviews = lemmatization(stop_words_removal(reviews)) # Applying stop words removal and lemmatization to the reviews\n",
        "  vectorizer = CountVectorizer(binary=True) # Initializing a binary CountVectorizer\n",
        "  encoded_reviews = vectorizer.fit_transform(reviews) # Transforming the pre-processed reviews into encoded features\n",
        "  return reviews,labels,encoded_reviews,encoded_labels"
      ],
      "metadata": {
        "id": "412d-3fONf0D"
      },
      "execution_count": 107,
      "outputs": []
    },
    {
      "cell_type": "code",
      "source": [
        "# Load data from file\n",
        "reviews, labels = load_data('/content/reviews.txt', '/content/labels.txt')\n",
        "# Perform pre-processing on the loaded data\n",
        "reviews,labels,encoded_reviews,encoded_labels = pre_processing(reviews,labels)"
      ],
      "metadata": {
        "id": "Lq1VJ74DXJ44"
      },
      "execution_count": 108,
      "outputs": []
    },
    {
      "cell_type": "code",
      "source": [
        "# Split the reviews and labels into training and testing sets\n",
        "# with a test size of 30% and a random state of 42\n",
        "X_train, X_test, y_train, y_test = train_test_split(encoded_reviews, encoded_labels, test_size = 0.3, random_state=80)\n",
        "# Create an instance of LinearSVC with C=0.25\n",
        "svm = LinearSVC(C=0.25)\n",
        "# Train the SVM model using the training data\n",
        "svm.fit(X_train, y_train)\n",
        "# Compute and print the accuracy of the model on the testing data\n",
        "print (f\"Accuracy {accuracy_score(y_test, svm.predict(X_test))}\")"
      ],
      "metadata": {
        "colab": {
          "base_uri": "https://localhost:8080/"
        },
        "id": "GTwAG49YTad-",
        "outputId": "4d59cf16-7642-49a8-cb77-918361fc7349"
      },
      "execution_count": 109,
      "outputs": [
        {
          "output_type": "stream",
          "name": "stdout",
          "text": [
            "Accuracy 0.87\n"
          ]
        }
      ]
    }
  ]
}