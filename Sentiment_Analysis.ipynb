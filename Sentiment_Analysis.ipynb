{
  "cells": [
    {
      "cell_type": "markdown",
      "metadata": {
        "id": "view-in-github",
        "colab_type": "text"
      },
      "source": [
        "<a href=\"https://colab.research.google.com/github/ABDELLAH-Hallou/Sentiment-Analysis/blob/master/Sentiment_Analysis.ipynb\" target=\"_parent\"><img src=\"https://colab.research.google.com/assets/colab-badge.svg\" alt=\"Open In Colab\"/></a>"
      ]
    },
    {
      "cell_type": "code",
      "execution_count": 5,
      "metadata": {
        "id": "d_bmz2vcHFh9"
      },
      "outputs": [],
      "source": [
        "from string import punctuation\n",
        "import nltk\n",
        "from nltk.corpus import stopwords\n",
        "from nltk.stem import WordNetLemmatizer\n",
        "\n",
        "from sklearn.feature_extraction.text import CountVectorizer\n",
        "\n",
        "from sklearn.model_selection import train_test_split\n",
        "from sklearn.model_selection import GridSearchCV\n",
        "from sklearn.svm import SVC\n",
        "from sklearn.metrics import accuracy_score"
      ]
    },
    {
      "cell_type": "code",
      "execution_count": 6,
      "metadata": {
        "colab": {
          "base_uri": "https://localhost:8080/"
        },
        "id": "mAcq46IhNpHG",
        "outputId": "23f442ff-f340-4dba-9270-92fdaeaefbc9"
      },
      "outputs": [
        {
          "output_type": "stream",
          "name": "stderr",
          "text": [
            "[nltk_data] Downloading package stopwords to /root/nltk_data...\n",
            "[nltk_data]   Package stopwords is already up-to-date!\n",
            "[nltk_data] Downloading package wordnet to /root/nltk_data...\n",
            "[nltk_data]   Package wordnet is already up-to-date!\n"
          ]
        },
        {
          "output_type": "execute_result",
          "data": {
            "text/plain": [
              "True"
            ]
          },
          "metadata": {},
          "execution_count": 6
        }
      ],
      "source": [
        "nltk.download('stopwords') # Download the stopwords corpus\n",
        "nltk.download('wordnet') # Download the WordNet corpus"
      ]
    },
    {
      "cell_type": "code",
      "execution_count": 3,
      "metadata": {
        "id": "412d-3fONf0D"
      },
      "outputs": [],
      "source": [
        "def stop_words_removal(corpus):\n",
        "  \"\"\"\n",
        "  Remove stop words from the given corpus.\n",
        "\n",
        "  Args:\n",
        "  - corpus (list): List of strings representing text documents.\n",
        "\n",
        "  Returns:\n",
        "  - list: List of strings with stop words removed from each document.\n",
        "  \"\"\"\n",
        "  stop_words = stopwords.words('english') # Initializing a list of stop words from the NLTK library\n",
        "  return [' '.join([word for word in review.split() if word not in stop_words]) for review in corpus]\n",
        "\n",
        "def punctuation_removal(corpus):\n",
        "  \"\"\"\n",
        "  Remove punctuation from the given corpus.\n",
        "\n",
        "  Args:\n",
        "  - corpus (str): Text corpus.\n",
        "\n",
        "  Returns:\n",
        "  - str: Corpus with punctuation removed.\n",
        "  \"\"\"\n",
        "  reviews = corpus.lower() # Converting the corpus to lowercase for uniformity\n",
        "  return ''.join([char for char in reviews if char not in punctuation])\n",
        "\n",
        "def lemmatization(corpus):\n",
        "  \"\"\"\n",
        "  Perform lemmatization on the given corpus.\n",
        "\n",
        "  Args:\n",
        "  - corpus (list): List of strings representing text documents.\n",
        "\n",
        "  Returns:\n",
        "  - list: List of strings with lemmatized words for each document.\n",
        "  \"\"\"\n",
        "  lemmatizer = WordNetLemmatizer() # Initializing the WordNet lemmatizer\n",
        "  return [' '.join([lemmatizer.lemmatize(word) for word in review.split()]) for review in corpus]\n",
        "\n",
        "def load_data(obervations, labels):\n",
        "  \"\"\"\n",
        "  Load text data from the given file paths.\n",
        "\n",
        "  Args:\n",
        "  - observations (str): File path to the text data file.\n",
        "  - labels (str): File path to the label data file.\n",
        "\n",
        "  Returns:\n",
        "  - tuple: Two elements containing the loaded text data and labels.\n",
        "  \"\"\"\n",
        "  reviews_path = obervations # Path to the file containing the reviews\n",
        "  labels_path = labels # Path to the file containing the labels\n",
        "  with open(reviews_path, 'r') as f :\n",
        "      reviews = f.read() # Reading the contents of the reviews file\n",
        "  with open(labels_path, 'r') as f :\n",
        "      labels = f.read() # Reading the contents of the labels file\n",
        "  return reviews, labels\n",
        "\n",
        "def pre_processing(corpus,target):\n",
        "  \"\"\"\n",
        "  Perform preprocessing on the given corpus and target labels.\n",
        "\n",
        "  Args:\n",
        "  - corpus (str): Text corpus.\n",
        "  - target (str): Target labels.\n",
        "\n",
        "  Returns:\n",
        "  - tuple: Four elements containing preprocessed reviews, labels, encoded reviews, and encoded labels.\n",
        "  \"\"\"\n",
        "  reviews = punctuation_removal(corpus) # Removing punctuation from the corpus\n",
        "  reviews = reviews.split('\\n') # Splitting the reviews into a list based on newlines\n",
        "  labels = target.split('\\n') # Splitting the target labels into a list based on newlines\n",
        "  encoded_labels = [1 if label == 'positive' else 0 for label in labels] # Encoding the labels as 1 for 'positive' and 0 for 'negative'\n",
        "  reviews = lemmatization(stop_words_removal(reviews)) # Applying stop words removal and lemmatization to the reviews\n",
        "  vectorizer = CountVectorizer(binary=True) # Initializing a binary CountVectorizer\n",
        "  encoded_reviews = vectorizer.fit_transform(reviews) # Transforming the pre-processed reviews into encoded features\n",
        "  return reviews,labels,encoded_reviews,encoded_labels"
      ]
    },
    {
      "cell_type": "code",
      "execution_count": 7,
      "metadata": {
        "id": "Lq1VJ74DXJ44"
      },
      "outputs": [],
      "source": [
        "# Load data from file\n",
        "reviews, labels = load_data('/content/reviews.txt', '/content/labels.txt')\n",
        "# Perform pre-processing on the loaded data\n",
        "reviews,labels,encoded_reviews,encoded_labels = pre_processing(reviews,labels)"
      ]
    },
    {
      "cell_type": "code",
      "execution_count": 8,
      "metadata": {
        "id": "6F6kl3J_ghVg"
      },
      "outputs": [],
      "source": [
        "svm_types = ['linear', 'poly', 'rbf']\n",
        "param_grid = {\n",
        "    'C': [0.1,0.25,0.5,0.75, 1, 10],\n",
        "    'gamma': [0.1, 1, 10]\n",
        "}"
      ]
    },
    {
      "cell_type": "code",
      "execution_count": null,
      "metadata": {
        "colab": {
          "background_save": true,
          "base_uri": "https://localhost:8080/"
        },
        "id": "GTwAG49YTad-",
        "outputId": "c8d7e415-88a3-467b-d71b-e05942e0589d"
      },
      "outputs": [
        {
          "name": "stdout",
          "output_type": "stream",
          "text": [
            "accuracy : 0.8706666666666667, svm type : linear\n",
            "accuracy : 0.7493333333333333, svm type : poly\n",
            "accuracy : 0.64, svm type : rbf\n"
          ]
        }
      ],
      "source": [
        "# Split the reviews and labels into training and testing sets\n",
        "# with a test size of 30% and a random state of 42\n",
        "X_train, X_test, y_train, y_test = train_test_split(encoded_reviews, encoded_labels, test_size = 0.3, random_state=80)\n",
        "\n",
        "best_score = 0\n",
        "best_svm = None\n",
        "for svm_type in svm_types:\n",
        "  # Create the SVM model for the current type\n",
        "  svm = SVC(kernel=svm_type)\n",
        "\n",
        "  # Perform grid search to find the best hyperparameters\n",
        "  model = GridSearchCV(svm, param_grid, cv=5, n_jobs=2)\n",
        "  model.fit(X_train, y_train)\n",
        "\n",
        "  # Evaluate on the validation set\n",
        "  y_pred = model.predict(X_test)\n",
        "  score = accuracy_score(y_test, y_pred)\n",
        "  print(f\"accuracy : {score}, svm type : {svm_type}\")\n",
        "  # Check if this model has the best score\n",
        "  if score > best_score:\n",
        "    best_score = score\n",
        "    best_svm = model.best_estimator_\n",
        "\n",
        "\n"
      ]
    }
  ],
  "metadata": {
    "accelerator": "TPU",
    "colab": {
      "provenance": [],
      "authorship_tag": "ABX9TyPZT5FyqhcwouB/yb4BTFuh",
      "include_colab_link": true
    },
    "kernelspec": {
      "display_name": "Python 3",
      "name": "python3"
    },
    "language_info": {
      "name": "python"
    }
  },
  "nbformat": 4,
  "nbformat_minor": 0
}